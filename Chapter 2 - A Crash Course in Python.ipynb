{
 "cells": [
  {
   "cell_type": "markdown",
   "metadata": {},
   "source": [
    "# Chapter 2: A Crash Course in Python"
   ]
  },
  {
   "cell_type": "markdown",
   "metadata": {},
   "source": [
    "The second chapter of \"Data Science from Scratch\" book.\n",
    "\n",
    "This is only a distilled content that I consider worth mentioning and giving some practice time. You can find more inside the book.\n",
    "\n",
    "Here we have:\n",
    "- Exceptions\n",
    "- Lists\n",
    "- Tuples\n",
    "- Dictionaries\n",
    "    - defaultdict\n",
    "    - Counter\n",
    "- Sets\n",
    "- Control Flow (only a few interesting aspects)\n",
    "- Booleans\n",
    "- Sorting\n",
    "- List Comprehensions (very useful)\n",
    "- Generators and Iterators\n",
    "- (Pseudo)Randomness\n",
    "- OOP"
   ]
  },
  {
   "cell_type": "markdown",
   "metadata": {},
   "source": [
    "## Exceptions\n",
    "Pretty standard except here we use \"except\" keyword to catch exceptions instead of \"catch\" which I'm more familiar with."
   ]
  },
  {
   "cell_type": "code",
   "execution_count": null,
   "metadata": {},
   "outputs": [],
   "source": [
    "try:\n",
    "    print(0/0)\n",
    "except ZeroDivisionError:\n",
    "    print(\"Cannot divide by zero\")"
   ]
  },
  {
   "cell_type": "markdown",
   "metadata": {},
   "source": [
    "## Lists\n",
    "May resemble arrays of other languages, however, they certainly have more functionalities."
   ]
  },
  {
   "cell_type": "code",
   "execution_count": 1,
   "metadata": {},
   "outputs": [
    {
     "name": "stdout",
     "output_type": "stream",
     "text": [
      "[1, 2, 3]\n",
      "3\n",
      "6\n"
     ]
    }
   ],
   "source": [
    "integer_list = [1, 2, 3]\n",
    "print(integer_list)\n",
    "print(len(integer_list))\n",
    "print(sum(integer_list))"
   ]
  },
  {
   "cell_type": "code",
   "execution_count": 2,
   "metadata": {},
   "outputs": [
    {
     "name": "stdout",
     "output_type": "stream",
     "text": [
      "['string', 0.1, True]\n",
      "[[1, 2, 3], ['string', 0.1, True], []]\n"
     ]
    }
   ],
   "source": [
    "heterogeneous_list = [\"string\", 0.1, True]\n",
    "list_of_lists = [integer_list, heterogeneous_list, []]\n",
    "print(heterogeneous_list)\n",
    "print(list_of_lists)"
   ]
  },
  {
   "cell_type": "markdown",
   "metadata": {},
   "source": [
    "Uncommon indexing stuff."
   ]
  },
  {
   "cell_type": "code",
   "execution_count": 4,
   "metadata": {},
   "outputs": [
    {
     "name": "stdout",
     "output_type": "stream",
     "text": [
      "[0, 1, 2, 3, 4, 5, 6, 7, 8, 9]\n",
      "0\n",
      "1\n",
      "9\n",
      "8\n",
      "[-1, 1, 2, 3, 4, 5, 6, 7, 8, 9]\n"
     ]
    }
   ],
   "source": [
    "simple_list = [0, 1, 2, 3, 4, 5, 6, 7, 8, 9]\n",
    "print(simple_list)\n",
    "print(simple_list[0])\n",
    "print(simple_list[1])\n",
    "\n",
    "# Get the last item\n",
    "print(simple_list[-1])\n",
    "\n",
    "# Get next-to-last item\n",
    "print(simple_list[-2])\n",
    "\n",
    "# Lists are editable\n",
    "simple_list[0] = -1\n",
    "print(simple_list)"
   ]
  },
  {
   "cell_type": "markdown",
   "metadata": {},
   "source": [
    "Now some \"slicing\"."
   ]
  },
  {
   "cell_type": "code",
   "execution_count": 5,
   "metadata": {},
   "outputs": [
    {
     "name": "stdout",
     "output_type": "stream",
     "text": [
      "[-1, 1, 2]\n",
      "[3, 4, 5, 6, 7, 8, 9]\n",
      "[1, 2, 3, 4]\n",
      "[7, 8, 9]\n",
      "[1, 2, 3, 4, 5, 6, 7, 8]\n",
      "[-1, 1, 2, 3, 4, 5, 6, 7, 8, 9]\n"
     ]
    }
   ],
   "source": [
    "# First three\n",
    "print(simple_list[:3])\n",
    "\n",
    "# Three to end\n",
    "print(simple_list[3:])\n",
    "\n",
    "# One to four (ending index is exclusive)\n",
    "print(simple_list[1:5])\n",
    "\n",
    "# Last three\n",
    "print(simple_list[-3:])\n",
    "\n",
    "# Without first and last\n",
    "print(simple_list[1:-1])\n",
    "\n",
    "# Copy of the entire list\n",
    "print(simple_list[:])"
   ]
  },
  {
   "cell_type": "markdown",
   "metadata": {},
   "source": [
    "You can use an \"in\" operator to check for list membership, however, be careful as it involves examining every element one at a time, which obviously may cause performance issues."
   ]
  },
  {
   "cell_type": "code",
   "execution_count": 6,
   "metadata": {},
   "outputs": [
    {
     "name": "stdout",
     "output_type": "stream",
     "text": [
      "True\n",
      "False\n"
     ]
    }
   ],
   "source": [
    "print(1 in simple_list)\n",
    "print(20 in simple_list)"
   ]
  },
  {
   "cell_type": "markdown",
   "metadata": {},
   "source": [
    "Some useful functions."
   ]
  },
  {
   "cell_type": "code",
   "execution_count": 8,
   "metadata": {},
   "outputs": [
    {
     "name": "stdout",
     "output_type": "stream",
     "text": [
      "[1, 2, 3]\n",
      "[1, 2, 3, 4, 5, 6]\n"
     ]
    }
   ],
   "source": [
    "simple_list = [1, 2, 3]\n",
    "print(simple_list)\n",
    "\n",
    "# Warning - modifies original list\n",
    "simple_list.extend([4, 5, 6])\n",
    "print(simple_list)"
   ]
  },
  {
   "cell_type": "code",
   "execution_count": 9,
   "metadata": {},
   "outputs": [
    {
     "name": "stdout",
     "output_type": "stream",
     "text": [
      "[1, 2, 3, 4, 5, 6]\n"
     ]
    }
   ],
   "source": [
    "simple_list = [1, 2, 3]\n",
    "\n",
    "# Use list addition when you don't want to modify your original list\n",
    "another_list = simple_list + [4, 5, 6]\n",
    "print(another_list)"
   ]
  },
  {
   "cell_type": "code",
   "execution_count": 10,
   "metadata": {},
   "outputs": [
    {
     "name": "stdout",
     "output_type": "stream",
     "text": [
      "[1, 2, 3, 0]\n"
     ]
    }
   ],
   "source": [
    "simple_list.append(0)\n",
    "print(simple_list)"
   ]
  },
  {
   "cell_type": "markdown",
   "metadata": {},
   "source": [
    "Unpacking lists:"
   ]
  },
  {
   "cell_type": "code",
   "execution_count": 12,
   "metadata": {},
   "outputs": [
    {
     "name": "stdout",
     "output_type": "stream",
     "text": [
      "1 2\n"
     ]
    }
   ],
   "source": [
    "simple_list = [1, 2]\n",
    "x, y = simple_list\n",
    "print(x, y)"
   ]
  },
  {
   "cell_type": "markdown",
   "metadata": {},
   "source": [
    "Use underscore \"_\" when you don't care about a value"
   ]
  },
  {
   "cell_type": "code",
   "execution_count": 13,
   "metadata": {},
   "outputs": [
    {
     "name": "stdout",
     "output_type": "stream",
     "text": [
      "2\n"
     ]
    }
   ],
   "source": [
    "_, z = simple_list\n",
    "print(z)"
   ]
  },
  {
   "cell_type": "markdown",
   "metadata": {},
   "source": [
    "## Tuples\n",
    "In short, they might be described as read-only lists. They use paratheses (or nothing)."
   ]
  },
  {
   "cell_type": "code",
   "execution_count": 14,
   "metadata": {},
   "outputs": [
    {
     "name": "stdout",
     "output_type": "stream",
     "text": [
      "[1, 3]\n",
      "Cannot modify a tuple!\n"
     ]
    }
   ],
   "source": [
    "my_list = [1, 2]\n",
    "my_tuple = (1, 2)\n",
    "another_tuple = 3, 4\n",
    "\n",
    "# Can modify a list\n",
    "my_list[1] = 3\n",
    "print(my_list)\n",
    "\n",
    "# But cannot do the same with tuples\n",
    "try:\n",
    "    my_tuple[1] = 3\n",
    "except TypeError:\n",
    "    print(\"Cannot modify a tuple!\")"
   ]
  },
  {
   "cell_type": "markdown",
   "metadata": {},
   "source": [
    "Tuples are a convenient way to return multiple values from functions"
   ]
  },
  {
   "cell_type": "code",
   "execution_count": 15,
   "metadata": {},
   "outputs": [
    {
     "name": "stdout",
     "output_type": "stream",
     "text": [
      "Sum = 9, Product = 20\n"
     ]
    }
   ],
   "source": [
    "def my_sum(x, y):\n",
    "    return x+y\n",
    "\n",
    "def my_mul(x, y):\n",
    "    return x*y\n",
    "\n",
    "def sum_and_mul(x, y):\n",
    "    \"\"\"Returns tuple of sum and product\"\"\"\n",
    "    return my_sum(x, y), my_mul(x, y)\n",
    "\n",
    "s, m = sum_and_mul(4, 5)\n",
    "print(\"Sum = {}, Product = {}\".format(s, m))"
   ]
  },
  {
   "cell_type": "markdown",
   "metadata": {},
   "source": [
    "Useful trick - swap variables in one line"
   ]
  },
  {
   "cell_type": "code",
   "execution_count": 16,
   "metadata": {},
   "outputs": [
    {
     "name": "stdout",
     "output_type": "stream",
     "text": [
      "1 2\n",
      "2 1\n"
     ]
    }
   ],
   "source": [
    "x, y = 1, 2\n",
    "print(x, y)\n",
    "\n",
    "x, y = y, x\n",
    "print(x, y)"
   ]
  },
  {
   "cell_type": "markdown",
   "metadata": {},
   "source": [
    "## Dictionaries\n",
    "Standard, JSON-like objects consisting of key-value pairs."
   ]
  },
  {
   "cell_type": "code",
   "execution_count": null,
   "metadata": {},
   "outputs": [],
   "source": [
    "# \"{}\" is faster than \"dict()\" and is also more \"Pythonic\"\n",
    "#grades = dict()\n",
    "grades = {\"Adam\": 85, \"Ada\": 90}\n",
    "\n",
    "print(grades[\"Adam\"])"
   ]
  },
  {
   "cell_type": "code",
   "execution_count": null,
   "metadata": {},
   "outputs": [],
   "source": [
    "# Catch error when there's no such key defined\n",
    "try:\n",
    "    print(grades[\"Kate\"])\n",
    "except KeyError:\n",
    "    print(\"There's no grade for Kate!\")"
   ]
  },
  {
   "cell_type": "code",
   "execution_count": null,
   "metadata": {},
   "outputs": [],
   "source": [
    "# Default to 0 if there's no key\n",
    "kates_grade = grades.get(\"Kate\", 0)\n",
    "print(kates_grade)"
   ]
  },
  {
   "cell_type": "code",
   "execution_count": null,
   "metadata": {},
   "outputs": [],
   "source": [
    "print(\"Number of students: %s\" % len(grades))\n",
    "grades[\"Kate\"] = 99\n",
    "print(\"Number of students: %s\" % len(grades))"
   ]
  },
  {
   "cell_type": "code",
   "execution_count": null,
   "metadata": {},
   "outputs": [],
   "source": [
    "print(\"Keys:\")\n",
    "for key in grades.keys():\n",
    "    print(\"   %s\" % key)\n",
    "\n",
    "print(\"Values:\")\n",
    "for value in grades.values():\n",
    "    print(\"   %s\" % value)\n",
    "\n",
    "print(\"Is Kate in grades?\")\n",
    "print(\"Kate\" in grades)\n",
    "print(\"Is Jack in grades?\")\n",
    "print(\"Jack\" in grades)\n",
    "\n",
    "print(\"Now let's print all the key-value pairs:\")\n",
    "for key, value in grades.items():\n",
    "    print(\"({}, {})\".format(key, value))"
   ]
  },
  {
   "cell_type": "markdown",
   "metadata": {},
   "source": [
    "### Defaultdict\n",
    "Simply, a dictionary with a factory function provided so it is used in case no such key is present yet."
   ]
  },
  {
   "cell_type": "code",
   "execution_count": 17,
   "metadata": {},
   "outputs": [
    {
     "name": "stdout",
     "output_type": "stream",
     "text": [
      "['This', 'is', 'a', 'sample', 'text', 'to', 'perform', 'some', 'basic', 'operations', 'on.', 'Python', 'is', 'an', 'awesome', 'language', 'and', 'super', 'powerful.', 'Did', 'I', 'mention', 'that', 'Python', 'is', 'great?', 'Only', 'Python!']\n"
     ]
    }
   ],
   "source": [
    "from collections import defaultdict\n",
    "\n",
    "document = \"This is a sample text to perform some basic operations on. Python is an awesome language and super powerful. Did I mention that Python is great? Only Python!\".split(\" \")\n",
    "print(document)\n",
    "\n",
    "# int() creates 0\n",
    "word_counts = defaultdict(int)\n",
    "\n",
    "for word in document:\n",
    "    # Creates a key with default value of 0 if such key has not been created yet\n",
    "    word_counts[word] += 1"
   ]
  },
  {
   "cell_type": "markdown",
   "metadata": {},
   "source": [
    "You can provide any other constructor but there's one requirement - it must be parameterless"
   ]
  },
  {
   "cell_type": "code",
   "execution_count": null,
   "metadata": {},
   "outputs": [],
   "source": [
    "# Uses list()\n",
    "dd_list = defaultdict(list)\n",
    "dd_list[2].append(1)\n",
    "print(dd_list)"
   ]
  },
  {
   "cell_type": "code",
   "execution_count": null,
   "metadata": {},
   "outputs": [],
   "source": [
    "# Uses dict()\n",
    "dd_dict = defaultdict(dict)\n",
    "dd_dict[\"Damian\"][\"City\"] = \"Colchester\"\n",
    "print(dd_dict)"
   ]
  },
  {
   "cell_type": "code",
   "execution_count": null,
   "metadata": {},
   "outputs": [],
   "source": [
    "# Can use lambdas as well\n",
    "dd_pair = defaultdict(lambda: [0, 0])\n",
    "dd_pair[2][1] = 1\n",
    "print(dd_pair)"
   ]
  },
  {
   "cell_type": "markdown",
   "metadata": {},
   "source": [
    "### Counter\n",
    "Tip: Useful for histograms (we'll see later)."
   ]
  },
  {
   "cell_type": "code",
   "execution_count": null,
   "metadata": {},
   "outputs": [],
   "source": [
    "from collections import Counter\n",
    "\n",
    "c = Counter([0, 1, 2, 0])\n",
    "print(c)"
   ]
  },
  {
   "cell_type": "code",
   "execution_count": null,
   "metadata": {},
   "outputs": [],
   "source": [
    "word_counts = Counter(document)\n",
    "print(word_counts)"
   ]
  },
  {
   "cell_type": "code",
   "execution_count": null,
   "metadata": {},
   "outputs": [],
   "source": [
    "for word, count in word_counts.most_common(3):\n",
    "    print (word, count)"
   ]
  },
  {
   "cell_type": "markdown",
   "metadata": {},
   "source": [
    "## Sets\n",
    "To me, this seems like a dictionary that uses only keys. As a consequence, it only stores unique values and there's no problem when you try to add a value second time.\n",
    "\n",
    "It is also worth to mention, that the \"in\" operation is much faster here compared to lists, where every element needs to be checked. Keep that in mind!\n",
    "\n",
    "Two main reasons to use sets:\n",
    "- \"in\" is a very fast operation on sets\n",
    "- find distinct items in a collection"
   ]
  },
  {
   "cell_type": "code",
   "execution_count": null,
   "metadata": {},
   "outputs": [],
   "source": [
    "s = set()\n",
    "s.add(1)\n",
    "s.add(2)\n",
    "s.add(2)\n",
    "print(s)\n",
    "print(len(s))\n",
    "print(2 in s)\n",
    "print(3 in s)"
   ]
  },
  {
   "cell_type": "code",
   "execution_count": null,
   "metadata": {},
   "outputs": [],
   "source": [
    "item_list = [1, 2, 3, 1, 2, 3]\n",
    "print(item_list)\n",
    "\n",
    "num_items = len(item_list)\n",
    "print(num_items)\n",
    "\n",
    "item_set = set(item_list)\n",
    "print(item_set)\n",
    "\n",
    "num_distinct_items = len(item_set)\n",
    "print(num_distinct_items)\n",
    "\n",
    "dis_item_list = list(item_set)\n",
    "print(dis_item_list)"
   ]
  },
  {
   "cell_type": "markdown",
   "metadata": {},
   "source": [
    "## Control flow"
   ]
  },
  {
   "cell_type": "markdown",
   "metadata": {},
   "source": [
    "### if-elif-else\n",
    "Pretty standard as any other language. The different worth mentioning is \"elif\" which stands for \"else if\" construction."
   ]
  },
  {
   "cell_type": "code",
   "execution_count": 18,
   "metadata": {},
   "outputs": [
    {
     "name": "stdout",
     "output_type": "stream",
     "text": [
      "Well, all above is false!\n"
     ]
    }
   ],
   "source": [
    "if 1 > 2:\n",
    "    print(\"Is 1 greater than 2?\")\n",
    "elif 1 > 3:\n",
    "    print(\"Or greater than 3?\")\n",
    "else:\n",
    "    print(\"Well, all above is false!\")"
   ]
  },
  {
   "cell_type": "markdown",
   "metadata": {},
   "source": [
    "A one-liner:"
   ]
  },
  {
   "cell_type": "code",
   "execution_count": 19,
   "metadata": {},
   "outputs": [
    {
     "name": "stdout",
     "output_type": "stream",
     "text": [
      "even\n"
     ]
    }
   ],
   "source": [
    "print(\"even\" if 4 % 2 == 0 else \"odd\")"
   ]
  },
  {
   "cell_type": "markdown",
   "metadata": {},
   "source": [
    "### for loops"
   ]
  },
  {
   "cell_type": "code",
   "execution_count": 20,
   "metadata": {},
   "outputs": [
    {
     "name": "stdout",
     "output_type": "stream",
     "text": [
      "0\n",
      "1\n",
      "2\n",
      "4\n"
     ]
    }
   ],
   "source": [
    "for x in range(10):\n",
    "    if x == 3:\n",
    "        continue\n",
    "    if x == 5:\n",
    "        break\n",
    "    print(x)"
   ]
  },
  {
   "cell_type": "markdown",
   "metadata": {},
   "source": [
    "## Booleans\n",
    "Again, pretty standard except True and False values are capitalized"
   ]
  },
  {
   "cell_type": "code",
   "execution_count": 21,
   "metadata": {},
   "outputs": [
    {
     "name": "stdout",
     "output_type": "stream",
     "text": [
      "True\n",
      "False\n"
     ]
    }
   ],
   "source": [
    "print(1 < 2)\n",
    "print(True == False)"
   ]
  },
  {
   "cell_type": "markdown",
   "metadata": {},
   "source": [
    "Uses \"None\" as not defined value (known as \"null\" in other languages)"
   ]
  },
  {
   "cell_type": "code",
   "execution_count": 25,
   "metadata": {},
   "outputs": [
    {
     "name": "stdout",
     "output_type": "stream",
     "text": [
      "True\n",
      "True\n"
     ]
    }
   ],
   "source": [
    "x = None\n",
    "print(x == None)\n",
    "\n",
    "# More Pythonic\n",
    "print(x is None)"
   ]
  },
  {
   "cell_type": "markdown",
   "metadata": {},
   "source": [
    "### And operator\n",
    "Returns its second value when the first is True; first value otherwise"
   ]
  },
  {
   "cell_type": "code",
   "execution_count": 26,
   "metadata": {},
   "outputs": [
    {
     "name": "stdout",
     "output_type": "stream",
     "text": [
      "[]\n",
      "1\n"
     ]
    }
   ],
   "source": [
    "my_list = []\n",
    "first_item = my_list and my_list[0]\n",
    "print(first_item)\n",
    "\n",
    "my_list.append(1)\n",
    "first_item = my_list and my_list[0]\n",
    "print(first_item)"
   ]
  },
  {
   "cell_type": "markdown",
   "metadata": {},
   "source": [
    "### Or operator\n",
    "Returns its first value when it's True; second value otherwise"
   ]
  },
  {
   "cell_type": "code",
   "execution_count": 27,
   "metadata": {},
   "outputs": [
    {
     "name": "stdout",
     "output_type": "stream",
     "text": [
      "None\n",
      "1\n"
     ]
    }
   ],
   "source": [
    "x = None\n",
    "\n",
    "# Equivalent of \"x ?? 0\" in C#\n",
    "safe_x = x or 0\n",
    "print(x)\n",
    "\n",
    "x = 1\n",
    "safe_x = x or 0\n",
    "print(x)"
   ]
  },
  {
   "cell_type": "markdown",
   "metadata": {},
   "source": [
    "Useful boolean functions:\n",
    "- all\n",
    "- any\n",
    "\n",
    "They take a list as a parameter"
   ]
  },
  {
   "cell_type": "code",
   "execution_count": 29,
   "metadata": {},
   "outputs": [
    {
     "name": "stdout",
     "output_type": "stream",
     "text": [
      "True\n",
      "False\n",
      "True\n",
      "True\n",
      "False\n",
      "False\n"
     ]
    }
   ],
   "source": [
    "print(all([True, 1, {3}]))\n",
    "print(all([True, 1, {}]))\n",
    "print(any([True, 1, {}]))\n",
    "print(all([]))\n",
    "print(any([]))\n",
    "\n",
    "print(any([\n",
    "    False,\n",
    "    None,\n",
    "    [],\n",
    "    {},\n",
    "    \"\",\n",
    "    set(),\n",
    "    0,\n",
    "    0.0\n",
    "]))"
   ]
  },
  {
   "cell_type": "code",
   "execution_count": null,
   "metadata": {},
   "outputs": [],
   "source": []
  }
 ],
 "metadata": {
  "kernelspec": {
   "display_name": "Python 3",
   "language": "python",
   "name": "python3"
  },
  "language_info": {
   "codemirror_mode": {
    "name": "ipython",
    "version": 3
   },
   "file_extension": ".py",
   "mimetype": "text/x-python",
   "name": "python",
   "nbconvert_exporter": "python",
   "pygments_lexer": "ipython3",
   "version": "3.6.5"
  }
 },
 "nbformat": 4,
 "nbformat_minor": 2
}
