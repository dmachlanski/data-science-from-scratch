{
 "cells": [
  {
   "cell_type": "markdown",
   "metadata": {},
   "source": [
    "# Chapter 4 - Linear Algebra\n",
    "A few exercises with vectors and matrices.\n",
    "\n",
    "## Vectors"
   ]
  },
  {
   "cell_type": "code",
   "execution_count": 1,
   "metadata": {},
   "outputs": [
    {
     "name": "stdout",
     "output_type": "stream",
     "text": [
      "[3, 3]\n",
      "[-1, 1]\n"
     ]
    }
   ],
   "source": [
    "import math\n",
    "\n",
    "def vector_add(v, w):\n",
    "    return [vi + wi for vi, wi in zip(v, w)]\n",
    "\n",
    "def vector_sub(v, w):\n",
    "    return [vi - wi for vi, wi in zip(v, w)]\n",
    "\n",
    "a = [1, 2]\n",
    "b = [2, 1]\n",
    "\n",
    "print(vector_add(a, b))\n",
    "print(vector_sub(a, b))"
   ]
  },
  {
   "cell_type": "markdown",
   "metadata": {},
   "source": [
    "Now, let's define a function to sum multiple vectors together."
   ]
  },
  {
   "cell_type": "code",
   "execution_count": 3,
   "metadata": {},
   "outputs": [
    {
     "name": "stdout",
     "output_type": "stream",
     "text": [
      "[3, 3]\n"
     ]
    }
   ],
   "source": [
    "from functools import reduce\n",
    "\n",
    "def vector_sum(vectors):\n",
    "    return reduce(vector_add, vectors)\n",
    "\n",
    "print(vector_sum([a, b]))"
   ]
  },
  {
   "cell_type": "markdown",
   "metadata": {},
   "source": [
    "How about scalar multiplication?"
   ]
  },
  {
   "cell_type": "code",
   "execution_count": 4,
   "metadata": {},
   "outputs": [
    {
     "name": "stdout",
     "output_type": "stream",
     "text": [
      "[5, 10]\n"
     ]
    }
   ],
   "source": [
    "def scalar_mult(c, v):\n",
    "    return [c * vi for vi in v]\n",
    "\n",
    "print(scalar_mult(5, [1, 2]))"
   ]
  },
  {
   "cell_type": "markdown",
   "metadata": {},
   "source": [
    "Now, let's move on to dot product."
   ]
  },
  {
   "cell_type": "code",
   "execution_count": 5,
   "metadata": {},
   "outputs": [
    {
     "name": "stdout",
     "output_type": "stream",
     "text": [
      "5\n"
     ]
    }
   ],
   "source": [
    "def dot(v, w):\n",
    "    return sum(vi * wi for vi, wi in zip(v, w))\n",
    "\n",
    "def sum_of_squares(v):\n",
    "    return dot(v, v)\n",
    "\n",
    "print(sum_of_squares([1, 2]))"
   ]
  },
  {
   "cell_type": "markdown",
   "metadata": {},
   "source": [
    "As a good exercise, let's try to implement the following equation (the distance between two vectors):\n",
    "\n",
    "$$\\sqrt{(v_1 - w_1)^2 + ... + (v_n - w_n)^2}$$"
   ]
  },
  {
   "cell_type": "code",
   "execution_count": 7,
   "metadata": {},
   "outputs": [
    {
     "name": "stdout",
     "output_type": "stream",
     "text": [
      "1.4142135623730951\n"
     ]
    }
   ],
   "source": [
    "def magnitude(v):\n",
    "    return math.sqrt(sum_of_squares(v))\n",
    "\n",
    "def distance(v, w):\n",
    "    return magnitude(vector_sub(v, w))\n",
    "\n",
    "a = [1, 2]\n",
    "b = [2, 1]\n",
    "\n",
    "print(distance(a, b))"
   ]
  },
  {
   "cell_type": "markdown",
   "metadata": {},
   "source": [
    "## Matrices\n",
    "In our case - lists of lists."
   ]
  },
  {
   "cell_type": "code",
   "execution_count": 9,
   "metadata": {},
   "outputs": [
    {
     "name": "stdout",
     "output_type": "stream",
     "text": [
      "[[1, 2, 3], [4, 5, 6]]\n"
     ]
    }
   ],
   "source": [
    "# 2 rows and 3 columns\n",
    "A = [[1, 2, 3],\n",
    "     [4, 5, 6]]\n",
    "\n",
    "print(A)"
   ]
  },
  {
   "cell_type": "code",
   "execution_count": 10,
   "metadata": {},
   "outputs": [
    {
     "name": "stdout",
     "output_type": "stream",
     "text": [
      "[[1, 2], [3, 4], [5, 6]]\n"
     ]
    }
   ],
   "source": [
    "# 3 rows and 2 columns\n",
    "B = [[1, 2],\n",
    "     [3, 4],\n",
    "     [5, 6]]\n",
    "\n",
    "print(B)"
   ]
  },
  {
   "cell_type": "code",
   "execution_count": 11,
   "metadata": {},
   "outputs": [
    {
     "name": "stdout",
     "output_type": "stream",
     "text": [
      "(2, 3)\n",
      "(3, 2)\n"
     ]
    }
   ],
   "source": [
    "def shape(A):\n",
    "    num_rows = len(A)\n",
    "    num_cols = len(A[0]) if A else 0\n",
    "    return num_rows, num_cols\n",
    "\n",
    "print(shape(A))\n",
    "print(shape(B))"
   ]
  },
  {
   "cell_type": "code",
   "execution_count": 15,
   "metadata": {},
   "outputs": [
    {
     "name": "stdout",
     "output_type": "stream",
     "text": [
      "[1, 2, 3]\n",
      "[4, 5, 6]\n",
      "[3, 4]\n",
      "\n",
      "[1, 4]\n",
      "[2, 5]\n",
      "[2, 4, 6]\n"
     ]
    }
   ],
   "source": [
    "def get_row(A, i):\n",
    "    return A[i]\n",
    "\n",
    "def get_column(A, j):\n",
    "    return [row[j] for row in A]\n",
    "\n",
    "print(get_row(A, 0))\n",
    "print(get_row(A, 1))\n",
    "print(get_row(B, 1))\n",
    "print()\n",
    "print(get_column(A, 0))\n",
    "print(get_column(A, 1))\n",
    "print(get_column(B, 1))"
   ]
  },
  {
   "cell_type": "code",
   "execution_count": 20,
   "metadata": {},
   "outputs": [
    {
     "name": "stdout",
     "output_type": "stream",
     "text": [
      "[1, 0, 0, 0, 0]\n",
      "[0, 1, 0, 0, 0]\n",
      "[0, 0, 1, 0, 0]\n",
      "[0, 0, 0, 1, 0]\n",
      "[0, 0, 0, 0, 1]\n",
      "\n",
      "[0, 1, 1, 1, 1]\n",
      "[0, 0, 1, 1, 1]\n",
      "[0, 0, 0, 1, 1]\n",
      "[0, 0, 0, 0, 1]\n",
      "[0, 0, 0, 0, 0]\n"
     ]
    }
   ],
   "source": [
    "def make_matrix(rows, cols, fn):\n",
    "    return [[fn(i, j)\n",
    "             for j in range(cols)]\n",
    "             for i in range(rows)]\n",
    "\n",
    "I = make_matrix(5, 5, lambda x, y: 1 if x == y else 0)\n",
    "\n",
    "for row in I:\n",
    "    print(row)\n",
    "    \n",
    "print()\n",
    "\n",
    "U = make_matrix(5, 5, lambda x, y: 1 if x < y else 0)\n",
    "\n",
    "for row in U:\n",
    "    print(row)"
   ]
  }
 ],
 "metadata": {
  "kernelspec": {
   "display_name": "Python 3",
   "language": "python",
   "name": "python3"
  },
  "language_info": {
   "codemirror_mode": {
    "name": "ipython",
    "version": 3
   },
   "file_extension": ".py",
   "mimetype": "text/x-python",
   "name": "python",
   "nbconvert_exporter": "python",
   "pygments_lexer": "ipython3",
   "version": "3.6.5"
  }
 },
 "nbformat": 4,
 "nbformat_minor": 2
}
